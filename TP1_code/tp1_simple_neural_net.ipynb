{
 "cells": [
  {
   "cell_type": "markdown",
   "metadata": {},
   "source": [
    "Si vous utilisez Google Colab, exécutez d'abord la cellule ci-dessous. La cellule présume que le code du TP1 (le dossier prog) se trouve dans MyDrive/IFT780/TP1/. Si ce n'est pas le cas, changez le chemin pour le vôtre. "
   ]
  },
  {
   "cell_type": "code",
   "execution_count": null,
   "metadata": {},
   "outputs": [],
   "source": [
    "# à exécuter uniquement sur les serveurs de google colab\n",
    "from google.colab import drive\n",
    "drive.mount('/content/drive')\n",
    "!cp -r drive/MyDrive/IFT780/TP1/prog/* ."
   ]
  },
  {
   "cell_type": "markdown",
   "metadata": {},
   "source": [
    "# TP1: Réseau de neurones à trois couches, fonction de perte *Erreur quadratique* (Mean squared error)"
   ]
  },
  {
   "cell_type": "code",
   "execution_count": 1,
   "metadata": {},
   "outputs": [
    {
     "name": "stdout",
     "output_type": "stream",
     "text": [
      "The autoreload extension is already loaded. To reload it, use:\n",
      "  %reload_ext autoreload\n"
     ]
    }
   ],
   "source": [
    "import random\n",
    "import numpy as np\n",
    "import matplotlib.pyplot as plt\n",
    "\n",
    "%matplotlib inline\n",
    "plt.rcParams['figure.figsize'] = (10.0, 8.0) # set default size of plots\n",
    "plt.rcParams['image.interpolation'] = 'nearest'\n",
    "plt.rcParams['image.cmap'] = 'gray'\n",
    "\n",
    "# pour automatiquement recharger les modules externes\n",
    "# voir http://stackoverflow.com/questions/1907993/autoreload-of-modules-in-ipython\n",
    "%load_ext autoreload\n",
    "%autoreload 2"
   ]
  },
  {
   "cell_type": "markdown",
   "metadata": {},
   "source": [
    "<font size=5>Code simple pour un MLP à trois couches</font>\n",
    "\n",
    "Le but de ce notebook est de vous familiariser avec le code effectuant une **propagation avant**, une **propagation arrière** puis une **descente de gradient**.  Vous verrez du code \"naif\" ainsi qu'une implémentation plus \"réelle\" utilisant d'une *cache*.\n",
    "\n",
    "Bien qu'aucune note ne soit attribée à ce notebook, prenez le temps de **bien comprendre les notions qui suivent**.\n",
    "\n",
    "Il est d'ailleurs recommandé de \"jouer\" avec le code afin de :\n",
    "\n",
    "* implanter d'autres fonctions d'activation (relu, tanh, etc)\n",
    "* implanter un réseau à 2 couche puis à 4 couches \n",
    "* tester une autre loss (entropie croisée)\n",
    "* etc.\n",
    "\n",
    "Le but de ce notebook est de vous préparer au *tp1_neural_net.ipynb* dans lequel les concepts abordés ici seront encapsulés dans des **classes**"
   ]
  },
  {
   "cell_type": "code",
   "execution_count": 2,
   "metadata": {},
   "outputs": [],
   "source": [
    "##############################################################################\n",
    "# Les variables déterminant la forme du réseau                               #\n",
    "##############################################################################\n",
    "\n",
    "num_input_neurons = 4\n",
    "num_hidden_neurons_1 = 5\n",
    "num_hidden_neurons_2 = 6\n",
    "num_output_neurons = 3"
   ]
  },
  {
   "cell_type": "code",
   "execution_count": 3,
   "metadata": {},
   "outputs": [
    {
     "name": "stdout",
     "output_type": "stream",
     "text": [
      "(1, 4)\n",
      "[[ 0.08654076 -0.23015387  0.17448118]]\n"
     ]
    }
   ],
   "source": [
    "##############################################################################\n",
    "# Création de données jouets aléatoires                                      #\n",
    "##############################################################################\n",
    "\n",
    "def create_random_toy_data(nb_data, nb_input_neurons, num_output_neurons):\n",
    "    np.random.seed(1)\n",
    "    \n",
    "    X = 10 * np.random.randn(nb_data, nb_input_neurons)\n",
    "    y = 0.1 * np.random.randn(nb_data, num_output_neurons)\n",
    "        \n",
    "    return X, y\n",
    "\n",
    "# Pour simplifier les choses, commençons avec une seule donnée\n",
    "X, y = create_random_toy_data(1, num_input_neurons, num_output_neurons)\n",
    "print(X.shape)\n",
    "print(y)"
   ]
  },
  {
   "cell_type": "code",
   "execution_count": 4,
   "metadata": {},
   "outputs": [
    {
     "name": "stdout",
     "output_type": "stream",
     "text": [
      "Poids de la premiere couche = \n",
      " [[-0.00761207  0.00319039 -0.0024937   0.01462108 -0.02060141]\n",
      " [-0.00322417 -0.00384054  0.01133769 -0.01099891 -0.00172428]\n",
      " [-0.00877858  0.00042214  0.00582815 -0.01100619  0.01144724]\n",
      " [ 0.00901591  0.00502494  0.00900856 -0.00683728 -0.0012289 ]]\n",
      "Poids de la 2e couche = \n",
      " [[-0.00935769 -0.00267888  0.00530355 -0.00691661 -0.00396754 -0.00687173]\n",
      " [-0.00845206 -0.00671246 -0.00012665 -0.0111731   0.00234416  0.01659802]\n",
      " [ 0.00742044 -0.00191836 -0.00887629 -0.00747158  0.01692455  0.00050808]\n",
      " [-0.00636996  0.00190915  0.02100255  0.00120159  0.00617203  0.0030017 ]\n",
      " [-0.0035225  -0.01142518 -0.00349343 -0.00208894  0.00586623  0.00838983]]\n",
      "Poids de la 3e couche = \n",
      " [[ 0.00931102  0.00285587  0.00885141]\n",
      " [-0.00754398  0.01252868  0.0051293 ]\n",
      " [-0.00298093  0.00488518 -0.00075572]\n",
      " [ 0.01131629  0.01519817  0.02185575]\n",
      " [-0.01396496 -0.01444114 -0.00504466]\n",
      " [ 0.00160037  0.00876169  0.00315635]]\n"
     ]
    }
   ],
   "source": [
    "##############################################################################\n",
    "# Création + initialisation des matrices de poids                            #\n",
    "##############################################################################\n",
    "def create_random_weights(in_size, num_1, num_2, nb_out):\n",
    "    Weight_1 = np.random.normal(loc=0.0, scale=0.01, size=(in_size, num_1))\n",
    "    Weight_2 = np.random.normal(loc=0.0, scale=0.01, size=(num_1, num_2))\n",
    "    Weight_3 = np.random.normal(loc=0.0, scale=0.01, size=(num_2, nb_out))\n",
    "    W = {\"W1\": Weight_1, \"W2\": Weight_2, \"W3\": Weight_3}\n",
    "    return W\n",
    "\n",
    "W = create_random_weights(num_input_neurons, num_hidden_neurons_1, num_hidden_neurons_2, num_output_neurons)\n",
    "\n",
    "print(\"Poids de la premiere couche = \\n\", W['W1'])\n",
    "print(\"Poids de la 2e couche = \\n\", W['W2'])\n",
    "print(\"Poids de la 3e couche = \\n\", W['W3'])"
   ]
  },
  {
   "cell_type": "code",
   "execution_count": 5,
   "metadata": {},
   "outputs": [
    {
     "name": "stdout",
     "output_type": "stream",
     "text": [
      "sig(0) =  0.5   sig(1) =  0.7310585786300049   sig(-1) =  0.2689414213699951\n",
      "dsig(0) =  0.25   dsig(1) =  0.19661193324148185   dsig(-1) =  0.19661193324148185\n"
     ]
    }
   ],
   "source": [
    "##############################################################################\n",
    "# Fonction d'activation + sa dérivée                                         #\n",
    "##############################################################################\n",
    "def sigmoid(x):\n",
    "    return 1.0 / (1.0 + np.exp(-x))\n",
    "\n",
    "def derivative_sigmoid(x):\n",
    "    return sigmoid(x)*(1-sigmoid(x))\n",
    "\n",
    "# résultat de la sigmoide et de sa dérivée pour 3 valeurs différentes soient: 0, 1 et -1\n",
    "\n",
    "print('sig(0) = ', sigmoid(0), '  sig(1) = ', sigmoid(1), '  sig(-1) = ', sigmoid(-1))\n",
    "print('dsig(0) = ', derivative_sigmoid(0), '  dsig(1) = ', derivative_sigmoid(1), '  dsig(-1) = ', derivative_sigmoid(-1))\n"
   ]
  },
  {
   "cell_type": "markdown",
   "metadata": {},
   "source": [
    "# Code naif"
   ]
  },
  {
   "cell_type": "code",
   "execution_count": 6,
   "metadata": {},
   "outputs": [
    {
     "name": "stdout",
     "output_type": "stream",
     "text": [
      "score =  [[-0.00122181  0.01480057  0.01648451]]\n"
     ]
    }
   ],
   "source": [
    "##############################################################################\n",
    "# Une simple propagation avant                                               #\n",
    "##############################################################################\n",
    "\n",
    "def forward_pass(W, X, activation):\n",
    "    H1 = X.dot(W['W1'])\n",
    "    L1 = activation(H1)\n",
    "    \n",
    "    H2 = L1.dot(W['W2'])\n",
    "    L2 = activation(H2)\n",
    "    \n",
    "    H3 = L2.dot(W['W3'])\n",
    "    score = H3\n",
    "    \n",
    "    return score\n",
    "\n",
    "score = forward_pass(W, X, sigmoid)\n",
    "\n",
    "print('score = ', score)"
   ]
  },
  {
   "cell_type": "code",
   "execution_count": 7,
   "metadata": {},
   "outputs": [
    {
     "name": "stdout",
     "output_type": "stream",
     "text": [
      "score =  [[-0.00122181  0.01480057  0.01648451]]\n",
      "loss MSE =  0.09266789279428708\n"
     ]
    }
   ],
   "source": [
    "##############################################################################\n",
    "# Une simple propagation + loss quadratique                                  #\n",
    "##############################################################################\n",
    "def forward_pass_with_loss_MSE(W, X, y, activation):\n",
    "    H1 = X.dot(W['W1'])\n",
    "    L1 = activation(H1)\n",
    "    \n",
    "    H2 = L1.dot(W['W2'])\n",
    "    L2 = activation(H2)\n",
    "    \n",
    "    H3 = L2.dot(W['W3'])\n",
    "    score = H3\n",
    "    \n",
    "    loss = np.sum(np.power(score - y, 2))\n",
    "    \n",
    "    return score, loss\n",
    "\n",
    "score, loss = forward_pass_with_loss_MSE(W, X, y, sigmoid)\n",
    "\n",
    "print('score = ', score)\n",
    "print('loss MSE = ', loss)"
   ]
  },
  {
   "cell_type": "code",
   "execution_count": 8,
   "metadata": {},
   "outputs": [
    {
     "name": "stdout",
     "output_type": "stream",
     "text": [
      "(4, 5)  vs  (4, 5)\n",
      "(5, 6)  vs  (5, 6)\n",
      "(6, 3)  vs  (6, 3)\n"
     ]
    }
   ],
   "source": [
    "##############################################################################\n",
    "# Fonction effectuant une propagation AVANT + ARRIERE                        #\n",
    "#                                                                            #\n",
    "# WARNING-WARNING-WARNING!                                                   #\n",
    "# Portez attention à la dimension de chaque opération, c'est ce qui est le   #\n",
    "# plus mélangeant! Pour comprendre ce code, il est préférable d'effectuer    #\n",
    "# en premier la dérivation manuellement sur papier.                          #\n",
    "#                                                                            #\n",
    "# NOTE : une bonne pratique consiste à recoder cette fonction mais avec une  #\n",
    "#       autre loss et/ou pour un nombre arbitraire de classes.               #\n",
    "##############################################################################\n",
    "\n",
    "def forward_naive_backward_pass_with_loss_MSE(W, X, y, activation, derivative_activation):\n",
    "    # X : 1x4\n",
    "    # W1 : 4x5\n",
    "    # W2 : 5x6\n",
    "    # W3 : 6x3\n",
    "    H1 = X.dot(W['W1']) #  H1 : 1x4.4x5 => 1x5\n",
    "    L1 = activation(H1) #  L1 : 1x5\n",
    "    \n",
    "    H2 = L1.dot(W['W2']) # H2 : 1x5.5x6 => 1x6\n",
    "    L2 = activation(H2)  # L2 : 1x6\n",
    "    \n",
    "    H3 = L2.dot(W['W3']) # H3 : 1x6.6x3 => 1x3\n",
    "    score = H3           # score : 1x3\n",
    "    \n",
    "    loss = np.sum(np.power(score - y, 2)) # loss : 1x3\n",
    "    \n",
    "    dLoss_dScore = 2 * (score - y)        # dLoss_dScore : 1x3\n",
    "    \n",
    "    dH3_dW3 = L2                          # dH3_dW3 : 1x6\n",
    "    dH3_dL2 = W['W3']                     # dH3_dL2 : 6x3\n",
    "    dL2_dH2 = derivative_activation(H2)   # dL2_dH2 : 1x6\n",
    "    dH2_dW2 = L1                          # dH2_dW2 : 1x5\n",
    "    dH2_dL1 = W['W2']                     # dH3_dL2 : 5x6\n",
    "    dL1_dH1 = derivative_activation(H1)   # dL1_dH1 : 1x5\n",
    "    dH1_dW1 = X                           # dH1_dW1 : 1x4\n",
    "    \n",
    "    # dLoss_dScore * dH3_dW3 \n",
    "    #      1x3         1x6   => 6x3\n",
    "    dW3 = dLoss_dScore.T.dot(dH3_dW3).T\n",
    "    \n",
    "    # dLoss_dScore * dH3_dL2 * dL2_dH2 * dH2_dW2 \n",
    "    #      1x3         6x3      ----       1x5   => 5x6\n",
    "    dW2 = dLoss_dScore.dot(dH3_dL2.T)    # 1x3.3x6 : 1x6\n",
    "    dW2 = dW2 * dL2_dH2                  # 1x6\n",
    "    dW2 = dW2.T.dot(dH2_dW2).T           # 6x1 . 1x5.\n",
    "    \n",
    "    # dLoss_dScore * dH3_dL2 * dL2_dH2 * dH2_dL1 * dL1_dH1 * dH1_dW1  \n",
    "    #      1x3         6x3      ----       5x6      ----       1x4  => 4x5\n",
    "    dW1 = dLoss_dScore.dot(dH3_dL2.T)    # 1x3.3x6 : 1x6\n",
    "    dW1 = dW1 * dL2_dH2                  # 1x6\n",
    "    dW1 = dW1.dot(dH2_dL1.T)             # 1x6.6x5 : 1x5\n",
    "    dW1 = dW1 * dL1_dH1                  # 1x5.\n",
    "    dW1 = dW1.T.dot(dH1_dW1).T         # 5x1.1x4.t : 4x5 \n",
    "    \n",
    "    dW = {'dW1':dW1, 'dW2':dW2, 'dW3':dW3}\n",
    "    return score, loss, dW\n",
    "\n",
    "score, loss, dW = forward_naive_backward_pass_with_loss_MSE(W, X, y, sigmoid, derivative_sigmoid)\n",
    "\n",
    "# Meme dimensions?  Il faut s'assurer que la dimension des matrices W est la même que celle des gradients dW\n",
    "print(dW['dW1'].shape,  ' vs ', W['W1'].shape)\n",
    "print(dW['dW2'].shape,  ' vs ', W['W2'].shape)\n",
    "print(dW['dW3'].shape,  ' vs ', W['W3'].shape)"
   ]
  },
  {
   "cell_type": "code",
   "execution_count": 9,
   "metadata": {},
   "outputs": [
    {
     "name": "stdout",
     "output_type": "stream",
     "text": [
      "iter =  0\n",
      "iter =  10\n",
      "iter =  20\n",
      "iter =  30\n",
      "iter =  40\n",
      "iter =  50\n",
      "iter =  60\n",
      "iter =  70\n",
      "iter =  80\n",
      "iter =  90\n"
     ]
    },
    {
     "data": {
      "image/png": "[encoded data removed]",
      "text/plain": [
       "<Figure size 1000x800 with 1 Axes>"
      ]
     },
     "metadata": {},
     "output_type": "display_data"
    }
   ],
   "source": [
    "##############################################################################\n",
    "# Descente de gradient sur des données aléatoires                            #\n",
    "# Le but est de montrer que le réseau \"apprend\" quelque chose au bout de     #\n",
    "# quelques epochs                                                            #\n",
    "##############################################################################\n",
    "train_size = 1000\n",
    "lr = 0.1\n",
    "history_loss = []\n",
    "X, y = create_random_toy_data(train_size, num_input_neurons, num_output_neurons)\n",
    "\n",
    "W = create_random_weights(num_input_neurons, num_hidden_neurons_1, num_hidden_neurons_2, num_output_neurons)\n",
    "for iter in range(100):\n",
    "    if np.mod(iter,10)==0:\n",
    "        print(\"iter = \", iter)\n",
    "    \n",
    "    loss_epoch = 0\n",
    "    for i in range(train_size):\n",
    "        \n",
    "        x_data = np.expand_dims(X[i,:], axis=0)\n",
    "        score, loss, dW = forward_naive_backward_pass_with_loss_MSE(W, x_data, y[i,:], sigmoid, derivative_sigmoid)\n",
    "        W['W1'] = W['W1'] - lr*dW['dW1']\n",
    "        W['W2'] = W['W2'] - lr*dW['dW2']\n",
    "        W['W3'] = W['W3'] - lr*dW['dW3']\n",
    "        \n",
    "        loss_epoch += loss\n",
    "        \n",
    "    history_loss.append(loss_epoch/train_size)\n",
    "\n",
    "# En principe, la loss devrait décroitre\n",
    "plt.plot(history_loss)\n",
    "plt.show() "
   ]
  },
  {
   "cell_type": "markdown",
   "metadata": {},
   "source": [
    "# Code plus réaliste utilisant une \"cache\"\n",
    "\n",
    "L'idée derrière la *cache* est de stocker en mémoire les variables calculées lors de la propagation avant qui seront utiles lors de la rétro-propagation.\n",
    "\n",
    "Au fond, la *cache* permet de **diviser en 2 fonctions** la précédente fonction **forward_naive_backward_pass_with_loss_MSE**."
   ]
  },
  {
   "cell_type": "code",
   "execution_count": 10,
   "metadata": {},
   "outputs": [],
   "source": [
    "def real_forward_pass_with_loss_MSE(W, X, y, activation, derivative_activation):\n",
    "    # X : 1x4\n",
    "    # W1 : 4x5\n",
    "    # W2 : 5x6\n",
    "    # W3 : 6x3\n",
    "    H1 = X.dot(W['W1']) #  H1 : 1x4.4x5 => 1x5\n",
    "    L1 = activation(H1) #  L1 : 1x5\n",
    "    \n",
    "    H2 = L1.dot(W['W2']) # H2 : 1x5.5x6 => 1x6\n",
    "    L2 = activation(H2)  # L2 : 1x6\n",
    "    \n",
    "    H3 = L2.dot(W['W3']) # H3 : 1x6.6x3 => 1x3\n",
    "    score = H3           # score : 1x3\n",
    "    \n",
    "    loss = np.sum(np.power(score - y, 2)) # loss : 1x3\n",
    "    \n",
    "    cache = {'H1':H1, 'L1':L1, 'H2':H2, 'L2':L2, 'score':score}\n",
    "    return loss, cache\n",
    "\n",
    "def real_backprop_pass_with_loss_MSE(W, X, y, activation, derivative_activation, cache):\n",
    "    dLoss_dScore = 2 * (cache['score'] - y)\n",
    "    dW3 = dLoss_dScore.T.dot(cache['L2']).T\n",
    "    \n",
    "    dW2 = dLoss_dScore.dot(W['W3'].T)              \n",
    "    dW2 = dW2 * derivative_activation(cache['H2'])\n",
    "    dW2 = dW2.T.dot(cache['L1']).T\n",
    "    \n",
    "    dW1 = dLoss_dScore.dot(W['W3'].T)\n",
    "    dW1 = dW1 * derivative_activation(cache['H2'])\n",
    "    dW1 = dW1.dot(W['W2'].T)\n",
    "    dW1 = dW1 * derivative_activation(cache['H1'])\n",
    "    dW1 = dW1.T.dot(X).T\n",
    "    \n",
    "    dW = {'dW1':dW1, 'dW2':dW2, 'dW3':dW3}\n",
    "    return dW"
   ]
  },
  {
   "cell_type": "code",
   "execution_count": 11,
   "metadata": {},
   "outputs": [
    {
     "name": "stdout",
     "output_type": "stream",
     "text": [
      "(4, 5)  vs  (4, 5)\n",
      "(5, 6)  vs  (5, 6)\n",
      "(6, 3)  vs  (6, 3)\n"
     ]
    }
   ],
   "source": [
    "##############################################################################\n",
    "# Descente de gradient sur des données aléatoires                            #\n",
    "# Le but est de montrer que le réseau \"apprend\" quelque chose au bout de     #\n",
    "# quelques epochs                                                            #\n",
    "##############################################################################\n",
    "X, y = create_random_toy_data(1, num_input_neurons, num_output_neurons)\n",
    "\n",
    "loss, cache = real_forward_pass_with_loss_MSE(W, X, y, sigmoid, derivative_sigmoid)\n",
    "dW = real_backprop_pass_with_loss_MSE(W, X, y, sigmoid, derivative_sigmoid, cache)\n",
    "\n",
    "# Meme dimensions? oui!\n",
    "print(dW['dW1'].shape,  ' vs ', W['W1'].shape)\n",
    "print(dW['dW2'].shape,  ' vs ', W['W2'].shape)\n",
    "print(dW['dW3'].shape,  ' vs ', W['W3'].shape)"
   ]
  },
  {
   "cell_type": "code",
   "execution_count": 12,
   "metadata": {},
   "outputs": [
    {
     "name": "stdout",
     "output_type": "stream",
     "text": [
      "iter =  0\n",
      "iter =  10\n",
      "iter =  20\n",
      "iter =  30\n",
      "iter =  40\n",
      "iter =  50\n",
      "iter =  60\n",
      "iter =  70\n",
      "iter =  80\n",
      "iter =  90\n"
     ]
    },
    {
     "data": {
      "image/png": "[encoded data removed]",
      "text/plain": [
       "<Figure size 1000x800 with 1 Axes>"
      ]
     },
     "metadata": {},
     "output_type": "display_data"
    }
   ],
   "source": [
    "train_size = 1000\n",
    "lr = 0.1\n",
    "history_loss = []\n",
    "X, y = create_random_toy_data(train_size, num_input_neurons, num_output_neurons)\n",
    "W = create_random_weights(num_input_neurons, num_hidden_neurons_1, num_hidden_neurons_2, num_output_neurons)\n",
    "\n",
    "# 100 epochs\n",
    "for iter in range(100):\n",
    "    if np.mod(iter,10)==0:\n",
    "        print(\"iter = \", iter)\n",
    "    \n",
    "    loss_epoch = 0\n",
    "    for i in range(train_size):\n",
    "        \n",
    "        x_data = np.expand_dims(X[i,:], axis=0)\n",
    "        loss, cache = real_forward_pass_with_loss_MSE(W, x_data, y[i,:], sigmoid, derivative_sigmoid)\n",
    "        dW = real_backprop_pass_with_loss_MSE(W, x_data, y[i,:], sigmoid, derivative_sigmoid, cache)\n",
    "\n",
    "        W['W1'] = W['W1'] - lr*dW['dW1']\n",
    "        W['W2'] = W['W2'] - lr*dW['dW2']\n",
    "        W['W3'] = W['W3'] - lr*dW['dW3']\n",
    "        \n",
    "        loss_epoch += loss\n",
    "        \n",
    "    history_loss.append(loss_epoch/train_size)\n",
    "\n",
    "plt.plot(history_loss)\n",
    "plt.show() \n"
   ]
  },
  {
   "cell_type": "code",
   "execution_count": null,
   "metadata": {},
   "outputs": [],
   "source": []
  }
 ],
 "metadata": {
  "kernelspec": {
   "display_name": "base",
   "language": "python",
   "name": "python3"
  },
  "language_info": {
   "codemirror_mode": {
    "name": "ipython",
    "version": 3
   },
   "file_extension": ".py",
   "mimetype": "text/x-python",
   "name": "python",
   "nbconvert_exporter": "python",
   "pygments_lexer": "ipython3",
   "version": "3.10.8"
  },
  "vscode": {
   "interpreter": {
    "hash": "4ebca03ed28d4bdb2b83b823b912e255b5d9478816b5a777f9c36aa9107629df"
   }
  }
 },
 "nbformat": 4,
 "nbformat_minor": 4
}
